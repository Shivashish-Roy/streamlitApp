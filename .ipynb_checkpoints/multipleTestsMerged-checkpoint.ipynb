{
 "cells": [
  {
   "cell_type": "code",
   "execution_count": 16,
   "id": "6b5802f2",
   "metadata": {},
   "outputs": [],
   "source": [
    "import pandas as pd\n",
    "import yfinance as yf\n",
    "import pandas_datareader as data"
   ]
  },
  {
   "cell_type": "code",
   "execution_count": 2,
   "id": "f6ade70f",
   "metadata": {},
   "outputs": [],
   "source": [
    "companies = pd.read_csv(\"companylist.csv\") # reading the list of 50 companies of India"
   ]
  },
  {
   "cell_type": "code",
   "execution_count": 5,
   "id": "d7b8d154",
   "metadata": {},
   "outputs": [],
   "source": [
    "companyList = companies.tail(-1) # removing the first row"
   ]
  },
  {
   "cell_type": "code",
   "execution_count": 7,
   "id": "09d6d673",
   "metadata": {},
   "outputs": [
    {
     "data": {
      "text/html": [
       "<div>\n",
       "<style scoped>\n",
       "    .dataframe tbody tr th:only-of-type {\n",
       "        vertical-align: middle;\n",
       "    }\n",
       "\n",
       "    .dataframe tbody tr th {\n",
       "        vertical-align: top;\n",
       "    }\n",
       "\n",
       "    .dataframe thead th {\n",
       "        text-align: right;\n",
       "    }\n",
       "</style>\n",
       "<table border=\"1\" class=\"dataframe\">\n",
       "  <thead>\n",
       "    <tr style=\"text-align: right;\">\n",
       "      <th></th>\n",
       "      <th>Symbol</th>\n",
       "      <th>Open</th>\n",
       "      <th>High</th>\n",
       "      <th>Low</th>\n",
       "      <th>Last Traded Price</th>\n",
       "      <th>Change</th>\n",
       "      <th>%Change</th>\n",
       "      <th>Traded Volume(lacs)</th>\n",
       "      <th>Traded Value(crs)</th>\n",
       "      <th>52 Week High</th>\n",
       "      <th>52 Week Low</th>\n",
       "      <th>365 Days % Change</th>\n",
       "      <th>30 Days % Change</th>\n",
       "    </tr>\n",
       "  </thead>\n",
       "  <tbody>\n",
       "    <tr>\n",
       "      <th>1</th>\n",
       "      <td>HINDALCO</td>\n",
       "      <td>481.90</td>\n",
       "      <td>486.90</td>\n",
       "      <td>481.00</td>\n",
       "      <td>483.90</td>\n",
       "      <td>6.35</td>\n",
       "      <td>1.33</td>\n",
       "      <td>7.27</td>\n",
       "      <td>35.20</td>\n",
       "      <td>636.00</td>\n",
       "      <td>308.95</td>\n",
       "      <td>-1.83</td>\n",
       "      <td>4.75</td>\n",
       "    </tr>\n",
       "    <tr>\n",
       "      <th>2</th>\n",
       "      <td>JSWSTEEL</td>\n",
       "      <td>750.00</td>\n",
       "      <td>755.80</td>\n",
       "      <td>748.05</td>\n",
       "      <td>754.45</td>\n",
       "      <td>9.25</td>\n",
       "      <td>1.24</td>\n",
       "      <td>1.58</td>\n",
       "      <td>11.87</td>\n",
       "      <td>790.00</td>\n",
       "      <td>520.05</td>\n",
       "      <td>12.25</td>\n",
       "      <td>1.84</td>\n",
       "    </tr>\n",
       "    <tr>\n",
       "      <th>3</th>\n",
       "      <td>TATASTEEL</td>\n",
       "      <td>119.45</td>\n",
       "      <td>120.35</td>\n",
       "      <td>119.20</td>\n",
       "      <td>119.80</td>\n",
       "      <td>0.95</td>\n",
       "      <td>0.80</td>\n",
       "      <td>37.51</td>\n",
       "      <td>44.98</td>\n",
       "      <td>138.67</td>\n",
       "      <td>82.70</td>\n",
       "      <td>-89.75</td>\n",
       "      <td>7.25</td>\n",
       "    </tr>\n",
       "    <tr>\n",
       "      <th>4</th>\n",
       "      <td>HCLTECH</td>\n",
       "      <td>1,069.00</td>\n",
       "      <td>1,072.00</td>\n",
       "      <td>1,067.15</td>\n",
       "      <td>1,071.90</td>\n",
       "      <td>8.05</td>\n",
       "      <td>0.76</td>\n",
       "      <td>0.63</td>\n",
       "      <td>6.73</td>\n",
       "      <td>1,359.40</td>\n",
       "      <td>877.35</td>\n",
       "      <td>-16.78</td>\n",
       "      <td>4.23</td>\n",
       "    </tr>\n",
       "    <tr>\n",
       "      <th>5</th>\n",
       "      <td>TATAMOTORS</td>\n",
       "      <td>415.75</td>\n",
       "      <td>416.75</td>\n",
       "      <td>413.55</td>\n",
       "      <td>415.90</td>\n",
       "      <td>3.00</td>\n",
       "      <td>0.73</td>\n",
       "      <td>15.38</td>\n",
       "      <td>63.84</td>\n",
       "      <td>528.50</td>\n",
       "      <td>366.20</td>\n",
       "      <td>-17.43</td>\n",
       "      <td>0.42</td>\n",
       "    </tr>\n",
       "  </tbody>\n",
       "</table>\n",
       "</div>"
      ],
      "text/plain": [
       "       Symbol      Open      High       Low Last Traded Price  Change  \\\n",
       "1    HINDALCO    481.90    486.90    481.00            483.90    6.35   \n",
       "2    JSWSTEEL    750.00    755.80    748.05            754.45    9.25   \n",
       "3   TATASTEEL    119.45    120.35    119.20            119.80    0.95   \n",
       "4     HCLTECH  1,069.00  1,072.00  1,067.15          1,071.90    8.05   \n",
       "5  TATAMOTORS    415.75    416.75    413.55            415.90    3.00   \n",
       "\n",
       "   %Change  Traded Volume(lacs)  Traded Value(crs) 52 Week High 52 Week Low  \\\n",
       "1     1.33                 7.27              35.20       636.00      308.95   \n",
       "2     1.24                 1.58              11.87       790.00      520.05   \n",
       "3     0.80                37.51              44.98       138.67       82.70   \n",
       "4     0.76                 0.63               6.73     1,359.40      877.35   \n",
       "5     0.73                15.38              63.84       528.50      366.20   \n",
       "\n",
       "   365 Days % Change  30 Days % Change  \n",
       "1              -1.83              4.75  \n",
       "2              12.25              1.84  \n",
       "3             -89.75              7.25  \n",
       "4             -16.78              4.23  \n",
       "5             -17.43              0.42  "
      ]
     },
     "execution_count": 7,
     "metadata": {},
     "output_type": "execute_result"
    }
   ],
   "source": [
    "companyList.head()"
   ]
  },
  {
   "cell_type": "code",
   "execution_count": 9,
   "id": "58b57bf4",
   "metadata": {},
   "outputs": [],
   "source": [
    "companySymbols = companyList['Symbol'].tolist()\n",
    "tickers = []\n",
    "for symbol in companySymbols:\n",
    "    symbol = symbol + \".NS\"\n",
    "    tickers.append(symbol)"
   ]
  },
  {
   "cell_type": "code",
   "execution_count": 10,
   "id": "afec41c3",
   "metadata": {},
   "outputs": [
    {
     "name": "stdout",
     "output_type": "stream",
     "text": [
      "['HINDALCO.NS', 'JSWSTEEL.NS', 'TATASTEEL.NS', 'HCLTECH.NS', 'TATAMOTORS.NS', 'INFY.NS', 'TECHM.NS', 'ULTRACEMCO.NS', 'TITAN.NS', 'WIPRO.NS', 'ASIANPAINT.NS', 'BAJAJFINSV.NS', 'ADANIPORTS.NS', 'HDFCLIFE.NS', 'KOTAKBANK.NS', 'SBIN.NS', 'UPL.NS', 'POWERGRID.NS', 'HEROMOTOCO.NS', 'TCS.NS', 'BPCL.NS', 'NTPC.NS', 'SUNPHARMA.NS', 'BAJFINANCE.NS', 'BAJAJ-AUTO.NS', 'GRASIM.NS', 'COALINDIA.NS', 'ONGC.NS', 'DRREDDY.NS', 'ITC.NS', 'MARUTI.NS', 'BRITANNIA.NS', 'AXISBANK.NS', 'INDUSINDBK.NS', 'APOLLOHOSP.NS', 'ICICIBANK.NS', 'NESTLEIND.NS', 'RELIANCE.NS', 'HDFCBANK.NS', 'LT.NS', 'SBILIFE.NS', 'CIPLA.NS', 'M&M.NS', 'TATACONSUM.NS', 'DIVISLAB.NS', 'HINDUNILVR.NS', 'EICHERMOT.NS', 'HDFC.NS', 'ADANIENT.NS', 'BHARTIARTL.NS']\n"
     ]
    }
   ],
   "source": [
    "print(tickers)"
   ]
  },
  {
   "cell_type": "markdown",
   "id": "0a718298",
   "metadata": {},
   "source": [
    "### User choice"
   ]
  },
  {
   "cell_type": "code",
   "execution_count": 65,
   "id": "f32ff1c1",
   "metadata": {},
   "outputs": [
    {
     "name": "stdout",
     "output_type": "stream",
     "text": [
      "Enter the choice of comapny: 50\n"
     ]
    }
   ],
   "source": [
    "comapnyChoice = int(input(\"Enter the choice of comapny: \"))"
   ]
  },
  {
   "cell_type": "code",
   "execution_count": 66,
   "id": "a2bb9736",
   "metadata": {},
   "outputs": [],
   "source": [
    "tickerObject = yf.Ticker(tickers[comapnyChoice-1]) # Create ticker object of the selected company"
   ]
  },
  {
   "cell_type": "code",
   "execution_count": 67,
   "id": "fd900427",
   "metadata": {},
   "outputs": [
    {
     "data": {
      "text/plain": [
       "{'zip': '110070', 'sector': 'Communication Services', 'fullTimeEmployees': 20882, 'longBusinessSummary': \"Bharti Airtel Limited operates as a telecommunications company in Asia and Africa. It operates through Mobile Services India, Mobile Services Africa, Mobile Services South Asia, Airtel Business, Tower Infrastructure Services, Homes Services, Digital TV Services, and Others segments. The company's product offerings include 2G, 3G, and 4G wireless services, as well as mobile commerce, fixed-line services, high speed broadband, DTH, enterprise services, and national and international long-distance connectivity services. It also provides voice, data, video, web conferencing, network integration, data center, and managed services, as well as enterprise mobility applications and digital media; on-demand and streaming services; digital payments and financial services; and cloud and data center, cybersecurity, IoT, Ad Tech, and cloud based networking solutions. In addition, the company operates a submarine cable system; and provides telecom towers. The company has approximately 491 million customers across 17 countries. Bharti Airtel Limited has partnership with Google Cloud and Cisco to launch Airtel Office Internet, a unified enterprise grade solution; and a strategic partnership with Tata Consultancy Services Limited for implementing 5G network solutions for India. The company was formerly known as Bharti Tele-Ventures Limited and changed its name to Bharti Airtel Limited in April 2006. Bharti Airtel Limited was incorporated in 1995 and is headquartered in New Delhi, India.\", 'city': 'New Delhi', 'phone': '91 11 4666 6100', 'country': 'India', 'companyOfficers': [], 'website': 'https://www.airtel.in', 'maxAge': 1, 'address1': 'Bharti Crescent', 'fax': '91 11 4166 6137', 'industry': 'Telecom Services', 'address2': '1, Nelson Mandela Road Vasant Kunj Phase - II', 'ebitdaMargins': 0.45344, 'profitMargins': 0.05096, 'grossMargins': 0.60882, 'operatingCashflow': 609700020224, 'revenueGrowth': 0.221, 'operatingMargins': 0.23684, 'ebitda': 586333028352, 'targetLowPrice': None, 'recommendationKey': 'none', 'grossProfits': 698027000000, 'freeCashflow': 3282500096, 'targetMedianPrice': None, 'earningsGrowth': 0.82, 'currentRatio': 0.456, 'returnOnAssets': 0.04844, 'numberOfAnalystOpinions': None, 'targetMeanPrice': None, 'debtToEquity': 216.776, 'returnOnEquity': 0.117469996, 'targetHighPrice': None, 'totalCash': 134002999296, 'totalDebt': 2179888971776, 'totalRevenue': 1293080985600, 'totalCashPerShare': 22.512, 'financialCurrency': 'INR', 'revenuePerShare': 231.031, 'quickRatio': 0.156, 'recommendationMean': None, 'shortName': 'BHARTI AIRTEL LTD', 'longName': 'Bharti Airtel Limited', 'isEsgPopulated': False, 'gmtOffSetMilliseconds': '19800000', 'quoteType': 'EQUITY', 'messageBoardId': 'finmb_135466', 'market': 'in_market', 'annualHoldingsTurnover': None, 'enterpriseToRevenue': 5.342, 'beta3Year': None, 'enterpriseToEbitda': 11.781, '52WeekChange': 0.062271595, 'morningStarRiskRating': None, 'forwardEps': None, 'revenueQuarterlyGrowth': None, 'sharesOutstanding': 5962959872, 'fundInceptionDate': None, 'annualReportExpenseRatio': None, 'totalAssets': None, 'bookValue': 122.392, 'sharesShort': None, 'sharesPercentSharesOut': None, 'fundFamily': None, 'lastFiscalYearEnd': 1648684800, 'heldPercentInstitutions': 0.30667, 'netIncomeToCommon': 65894998016, 'trailingEps': 11.65, 'lastDividendValue': 3, 'SandP52WeekChange': -0.12455058, 'priceToBook': 6.3464117, 'heldPercentInsiders': 0.60398, 'nextFiscalYearEnd': 1680220800, 'yield': None, 'mostRecentQuarter': 1664496000, 'shortRatio': None, 'sharesShortPreviousMonthDate': None, 'floatShares': 2597828524, 'beta': 0.343341, 'enterpriseValue': 6907529527296, 'priceHint': 2, 'threeYearAverageReturn': None, 'lastSplitDate': 1248393600, 'lastSplitFactor': '2:1', 'legalType': None, 'lastDividendDate': 1659312000, 'morningStarOverallRating': None, 'earningsQuarterlyGrowth': 0.892, 'priceToSalesTrailing12Months': 3.5819325, 'dateShortInterest': None, 'pegRatio': None, 'ytdReturn': None, 'forwardPE': None, 'lastCapGain': None, 'shortPercentOfFloat': None, 'sharesShortPriorMonth': None, 'impliedSharesOutstanding': 0, 'category': None, 'fiveYearAverageReturn': None, 'trailingAnnualDividendYield': 0.0038945866, 'payoutRatio': 0.2575, 'volume24Hr': None, 'navPrice': None, 'trailingAnnualDividendRate': 3, 'toCurrency': None, 'expireDate': None, 'algorithm': None, 'dividendRate': 3, 'exDividendDate': 1659312000, 'circulatingSupply': None, 'startDate': None, 'trailingPE': 66.67382, 'lastMarket': None, 'maxSupply': None, 'openInterest': None, 'volumeAllCurrencies': None, 'strikePrice': None, 'ask': 776.9, 'askSize': 0, 'fromCurrency': None, 'fiveYearAvgDividendYield': None, 'bid': 776.75, 'tradeable': False, 'dividendYield': 0.0039, 'bidSize': 0, 'coinMarketCapLink': None, 'preMarketPrice': None, 'logo_url': 'https://logo.clearbit.com/airtel.in', 'trailingPegRatio': None}"
      ]
     },
     "execution_count": 67,
     "metadata": {},
     "output_type": "execute_result"
    }
   ],
   "source": [
    "tickerObject.info"
   ]
  },
  {
   "cell_type": "markdown",
   "id": "c37f3046",
   "metadata": {},
   "source": [
    "### Get the necessary data from balance sheet , cash flow statements and income statements"
   ]
  },
  {
   "cell_type": "code",
   "execution_count": 68,
   "id": "54ff7cb2",
   "metadata": {},
   "outputs": [],
   "source": [
    "incomeStatement = tickerObject.financials\n",
    "balanceSheet = tickerObject.balancesheet\n",
    "cashFlow = tickerObject.cashflow"
   ]
  },
  {
   "cell_type": "markdown",
   "id": "b8f7d96d",
   "metadata": {},
   "source": [
    "### clean the data"
   ]
  },
  {
   "cell_type": "code",
   "execution_count": 69,
   "id": "5f9ceca2",
   "metadata": {},
   "outputs": [],
   "source": [
    "cashFlow = cashFlow[cashFlow.columns[0:len(incomeStatement.columns)]]\n",
    "cashFlow.columns = ['2022', '2021','2020','2019']\n",
    "cashFlow.dropna()\n",
    "\n",
    "incomeStatement = incomeStatement[incomeStatement.columns[0:len(incomeStatement.columns)]]\n",
    "incomeStatement.columns = ['2022', '2021','2020','2019']\n",
    "incomeStatement = incomeStatement.fillna(0).astype(float)\n",
    "\n",
    "balanceSheet = balanceSheet[balanceSheet.columns[0:len(incomeStatement.columns)]]\n",
    "balanceSheet.columns = ['2022', '2021','2020','2019']\n",
    "balanceSheet = balanceSheet.fillna(0).astype(float)"
   ]
  },
  {
   "cell_type": "markdown",
   "id": "683794e9",
   "metadata": {},
   "source": [
    "## Zscore"
   ]
  },
  {
   "cell_type": "code",
   "execution_count": 70,
   "id": "e4cc1ece",
   "metadata": {},
   "outputs": [],
   "source": [
    "x1 = balanceSheet.loc[\"Working Capital\"] / balanceSheet.loc[\"Total Assets\"]\n",
    "\n",
    "x2 = balanceSheet.loc[\"Retained Earnings\"] / balanceSheet.loc[\"Total Assets\"]\n",
    "\n",
    "x3 = incomeStatement.loc[\"EBIT\"] / balanceSheet.loc[\"Total Assets\"]\n",
    "\n",
    "x4 = int(data.get_quote_yahoo(tickers[comapnyChoice-1])['marketCap'])/ balanceSheet.loc[\"Current Liabilities\"]\n",
    "\n",
    "x5 = incomeStatement.loc[\"Total Revenue\"] / balanceSheet.loc[\"Total Assets\"]"
   ]
  },
  {
   "cell_type": "code",
   "execution_count": 71,
   "id": "5354f3c5",
   "metadata": {},
   "outputs": [
    {
     "name": "stdout",
     "output_type": "stream",
     "text": [
      "2022    2.787792\n",
      "2021    2.547043\n",
      "2020    1.899618\n",
      "2019    3.338986\n",
      "dtype: float64\n"
     ]
    },
    {
     "data": {
      "text/plain": [
       "pandas.core.series.Series"
      ]
     },
     "execution_count": 71,
     "metadata": {},
     "output_type": "execute_result"
    }
   ],
   "source": [
    "z = (1.2 * x1) + (1.4 * x2) + (3.3 * x3) + (0.6 * x4) + (x5)\n",
    "print(z)\n",
    "type(z)"
   ]
  },
  {
   "cell_type": "code",
   "execution_count": 72,
   "id": "d78154f9",
   "metadata": {},
   "outputs": [
    {
     "name": "stdout",
     "output_type": "stream",
     "text": [
      "2.787791908928275\n"
     ]
    }
   ],
   "source": [
    "print(z[0])"
   ]
  },
  {
   "cell_type": "code",
   "execution_count": 134,
   "id": "129df5a2",
   "metadata": {},
   "outputs": [
    {
     "name": "stdout",
     "output_type": "stream",
     "text": [
      "2.787791908928275\n",
      "2.547042605063879\n",
      "1.8996176246602052\n",
      "3.338985593339661\n",
      "['PROBABLY', 'PROBABLY', 'PROBABLY', 'NO']\n"
     ]
    }
   ],
   "source": [
    "### Zcore test tabluated\n",
    "entry12 = []\n",
    "for zvalues in z:\n",
    "    print(zvalues)\n",
    "    i = 0\n",
    "    if zvalues>=3:\n",
    "        entry12value = \"NO\"\n",
    "        safeYears = z.index[i]\n",
    "        entry12.append(entry12value)\n",
    "    elif zvalues>=1.8 and zvalues<3: \n",
    "        entry12value =\"PROBABLY\"\n",
    "        safeYears = z.index[i]\n",
    "        entry12.append(entry12value)\n",
    "    else:\n",
    "        entry12value = \"YES\"\n",
    "        safeYears = z.index[i]\n",
    "        entry12.append(entry12value)\n",
    "    i = i + 1\n",
    "    \n",
    "print(entry12)"
   ]
  },
  {
   "cell_type": "markdown",
   "id": "58703c18",
   "metadata": {},
   "source": [
    "## Beneish M score"
   ]
  },
  {
   "cell_type": "code",
   "execution_count": 135,
   "id": "3d19bfbd",
   "metadata": {},
   "outputs": [],
   "source": [
    "cogs22 = incomeStatement.at['Total Revenue', '2022'] - \\\n",
    "    incomeStatement.at['Gross Profit', '2022']\n",
    "cogs21 = incomeStatement.at['Total Revenue', '2021'] - \\\n",
    "    incomeStatement.at['Gross Profit', '2021']\n",
    "cogs20 = incomeStatement.at['Total Revenue', '2020'] - \\\n",
    "    incomeStatement.at['Gross Profit', '2020']\n",
    "cogs19 = incomeStatement.at['Total Revenue', '2019'] - \\\n",
    "    incomeStatement.at['Gross Profit', '2019']\n",
    "\n",
    "incomeStatement.loc['Cost of Goods Sold'] = [cogs22, cogs21,cogs20,cogs19]\n",
    "\n",
    "\n",
    "if('Long Term Debt' not in balanceSheet.index):\n",
    "    ld22 = balanceSheet.at['Total Liab', \"2022\"] - \\\n",
    "        balanceSheet.at['Total Current Liabilities', \"2022\"] - \\\n",
    "        balanceSheet.at['Other Liab', \"2022\"]\n",
    "    ld21 = balanceSheet.at['Total Liab', \"2021\"] - \\\n",
    "        balanceSheet.at['Total Current Liabilities', \"2021\"] - \\\n",
    "        balanceSheet.at['Other Liab', \"2021\"]\n",
    "    ld20 = balanceSheet.at['Total Liab', \"2020\"] - \\\n",
    "        balanceSheet.at['Total Current Liabilities', \"2020\"] - \\\n",
    "        balanceSheet.at['Other Liab', \"2020\"]\n",
    "    ld19 = balanceSheet.at['Total Liab', \"2019\"] - \\\n",
    "        balanceSheet.at['Total Current Liabilities', \"2019\"] - \\\n",
    "        balanceSheet.at['Other Liab', \"2019\"]\n",
    "        \n",
    "    balanceSheet.loc['Long Term Debt'] = [ld22, ld21, ld20, ld19]\n",
    "    \n",
    "\n",
    "\n",
    "if('Long Term Investments' not in balanceSheet.index):\n",
    "    li22 = balanceSheet.at['Common Stock', \"2022\"] + \\\n",
    "        balanceSheet.at['Cash And Cash Equivalents', \"2022\"]\n",
    "    li21 = balanceSheet.at['Common Stock', \"2021\"] - \\\n",
    "        balanceSheet.at['Cash And Cash Equivalents', \"2021\"]\n",
    "    li20 = balanceSheet.at['Common Stock', \"2020\"] - \\\n",
    "        balanceSheet.at['Cash And Cash Equivalents', \"2020\"]\n",
    "    li19 = balanceSheet.at['Common Stock', \"2019\"] - \\\n",
    "        balanceSheet.at['Cash And Cash Equivalents', \"2019\"]\n",
    "    \n",
    "balanceSheet.loc['Long Term Investments'] = [li22, li21, li20, li19]"
   ]
  },
  {
   "cell_type": "code",
   "execution_count": 139,
   "id": "e8db36c5",
   "metadata": {},
   "outputs": [],
   "source": [
    "df = incomeStatement.loc[[\"Total Revenue\",\n",
    "                            \"Cost of Goods Sold\", \"Selling General And Administration\", \"Net Income\"]]\n",
    "\n",
    "df2 = balanceSheet.loc[[\"Gross Accounts Receivable\",\n",
    "                        \"Current Assets\", \"Gross PPE\", \"Long Term Investments\", \"Total Assets\", \"Current Liabilities\", \"Long Term Debt\"]]\n",
    "\n",
    "df3 = cashFlow.loc[[\"Depreciation\",\n",
    "                    \"Operating Cash Flow\"]]\n",
    "\n",
    "data = pd.concat([df, df2, df3])"
   ]
  },
  {
   "cell_type": "code",
   "execution_count": 140,
   "id": "e48c685d",
   "metadata": {},
   "outputs": [],
   "source": [
    "data.index = [\"Revenue\", \"Cost of Goods Sold\", \"Selling, General & Admin.Expense\", \"Depreciation\", \"Net Income from Continuing Operations\", \"Accounts Receivables\",\n",
    "                  \"Current Assets\", \"Property, Plant & Equipment\", \"Securities\", \"Total Assets\", \"Current Liabilities\", \"Total Long-term Debt\", \"Cash Flow from Operations\"]"
   ]
  },
  {
   "cell_type": "code",
   "execution_count": 141,
   "id": "80b3413b",
   "metadata": {},
   "outputs": [],
   "source": [
    "from Formulas import *"
   ]
  },
  {
   "cell_type": "code",
   "execution_count": 142,
   "id": "43436cba",
   "metadata": {},
   "outputs": [],
   "source": [
    "dsri = [DSRI(data,2022),DSRI(data,2021),DSRI(data,2020)]\n",
    "gmi = [GMI(data,2022),GMI(data,2021),GMI(data,2020)]\n",
    "aqi = [AQI(data,2022),AQI(data,2021),AQI(data,2020)]\n",
    "sgi = [SGI(data,2022),SGI(data,2021),SGI(data,2020)]\n",
    "depi = [DEPI(data,2022),DEPI(data,2021),DEPI(data,2020)]\n",
    "sgai = [SGAI(data,2022),SGAI(data,2021),SGAI(data,2020)]\n",
    "lvgi = [LVGI(data,2022),LVGI(data,2021),LVGI(data,2020)]\n",
    "tata = [TATA(data,2022),TATA(data,2021),TATA(data,2020)]\n",
    "m_score = [BeneishMScore(dsri[0], gmi[0], aqi[0], sgi[0], depi[0], sgai[0], lvgi[0], tata[0]),BeneishMScore(dsri[1], gmi[1], aqi[1], sgi[1], depi[1], sgai[1], lvgi[1], tata[1]),\n",
    "          BeneishMScore(dsri[2], gmi[2], aqi[2], sgi[2], depi[2], sgai[2], lvgi[2], tata[2])]\n"
   ]
  },
  {
   "cell_type": "code",
   "execution_count": 143,
   "id": "3de00228",
   "metadata": {},
   "outputs": [
    {
     "data": {
      "text/plain": [
       "[-4.292318120852114, -4.4433641770161945, -1.770062602712615]"
      ]
     },
     "execution_count": 143,
     "metadata": {},
     "output_type": "execute_result"
    }
   ],
   "source": [
    "m_score"
   ]
  },
  {
   "cell_type": "code",
   "execution_count": 144,
   "id": "ea3793cf",
   "metadata": {},
   "outputs": [],
   "source": [
    "mScore = [m_score]\n",
    "indexForTable = \"Benish M score for {}\".format(companySymbols[comapnyChoice-1])\n",
    "dict1 = {\"Benish M score for {}\".format(companySymbols[comapnyChoice-1]): m_score}"
   ]
  },
  {
   "cell_type": "code",
   "execution_count": 145,
   "id": "9b4f231d",
   "metadata": {},
   "outputs": [
    {
     "data": {
      "text/html": [
       "<div>\n",
       "<style scoped>\n",
       "    .dataframe tbody tr th:only-of-type {\n",
       "        vertical-align: middle;\n",
       "    }\n",
       "\n",
       "    .dataframe tbody tr th {\n",
       "        vertical-align: top;\n",
       "    }\n",
       "\n",
       "    .dataframe thead th {\n",
       "        text-align: right;\n",
       "    }\n",
       "</style>\n",
       "<table border=\"1\" class=\"dataframe\">\n",
       "  <thead>\n",
       "    <tr style=\"text-align: right;\">\n",
       "      <th></th>\n",
       "      <th>2022</th>\n",
       "      <th>2021</th>\n",
       "      <th>2020</th>\n",
       "    </tr>\n",
       "  </thead>\n",
       "  <tbody>\n",
       "    <tr>\n",
       "      <th>Benish M score for BHARTIARTL</th>\n",
       "      <td>-4.292318</td>\n",
       "      <td>-4.443364</td>\n",
       "      <td>-1.770063</td>\n",
       "    </tr>\n",
       "  </tbody>\n",
       "</table>\n",
       "</div>"
      ],
      "text/plain": [
       "                                   2022      2021      2020\n",
       "Benish M score for BHARTIARTL -4.292318 -4.443364 -1.770063"
      ]
     },
     "execution_count": 145,
     "metadata": {},
     "output_type": "execute_result"
    }
   ],
   "source": [
    "mScoreTable = pd.DataFrame(dict1).T\n",
    "mScoreTable.columns = ['2022','2021','2020']\n",
    "mScoreTable"
   ]
  },
  {
   "cell_type": "markdown",
   "id": "b75514b8",
   "metadata": {},
   "source": [
    "## M score tabulated"
   ]
  },
  {
   "cell_type": "code",
   "execution_count": 147,
   "id": "3f865513",
   "metadata": {},
   "outputs": [
    {
     "name": "stdout",
     "output_type": "stream",
     "text": [
      "[-4.292318120852114, -4.4433641770161945, -1.770062602712615]\n",
      "[-4.292318120852114, -4.4433641770161945, -1.770062602712615]\n",
      "[-4.292318120852114, -4.4433641770161945, -1.770062602712615]\n",
      "['NO', 'NO', 'YES', 'insuff data for 2019']\n",
      "['PROBABLY', 'PROBABLY', 'PROBABLY', 'NO']\n"
     ]
    }
   ],
   "source": [
    "### Zcore test tabluated\n",
    "entry11 = []\n",
    "for mvalues in m_score:\n",
    "    print(m_score)\n",
    "    i = 0\n",
    "    if mvalues<-2.22:\n",
    "        entry11value = \"NO\"\n",
    "        \n",
    "        entry11.append(entry11value)\n",
    "    elif mvalues>=-2.22 and mvalues<-1.78: \n",
    "        entry11value =\"PROBABLY\"\n",
    "        \n",
    "        entry11.append(entry11value)\n",
    "    else:\n",
    "        entry11value = \"YES\"\n",
    "       \n",
    "        entry11.append(entry11value)\n",
    "    i = i + 1\n",
    "    \n",
    "entry11.append(\"insuff data for 2019\")    \n",
    "print(entry11)\n",
    "print(entry12)"
   ]
  },
  {
   "cell_type": "code",
   "execution_count": null,
   "id": "a3619ffa",
   "metadata": {},
   "outputs": [],
   "source": []
  },
  {
   "cell_type": "code",
   "execution_count": null,
   "id": "c31f6942",
   "metadata": {},
   "outputs": [],
   "source": []
  },
  {
   "cell_type": "code",
   "execution_count": null,
   "id": "aff02546",
   "metadata": {},
   "outputs": [],
   "source": []
  },
  {
   "cell_type": "markdown",
   "id": "f3ed5bd9",
   "metadata": {},
   "source": [
    "## Beneford Law"
   ]
  },
  {
   "cell_type": "code",
   "execution_count": null,
   "id": "0a6b20b0",
   "metadata": {},
   "outputs": [],
   "source": []
  },
  {
   "cell_type": "code",
   "execution_count": null,
   "id": "9e38513f",
   "metadata": {},
   "outputs": [],
   "source": []
  },
  {
   "cell_type": "code",
   "execution_count": null,
   "id": "3b712803",
   "metadata": {},
   "outputs": [],
   "source": []
  },
  {
   "cell_type": "code",
   "execution_count": null,
   "id": "bdc15a17",
   "metadata": {},
   "outputs": [],
   "source": []
  },
  {
   "cell_type": "code",
   "execution_count": null,
   "id": "13ba46ba",
   "metadata": {},
   "outputs": [],
   "source": []
  },
  {
   "cell_type": "code",
   "execution_count": null,
   "id": "1bc52306",
   "metadata": {},
   "outputs": [],
   "source": []
  },
  {
   "cell_type": "markdown",
   "id": "424ed308",
   "metadata": {},
   "source": [
    "## Probability of Fraud"
   ]
  },
  {
   "cell_type": "code",
   "execution_count": 152,
   "id": "92838cc0",
   "metadata": {},
   "outputs": [
    {
     "name": "stdout",
     "output_type": "stream",
     "text": [
      "### The probability of fraud is: \n",
      "      Probability Percentage for BHARTIARTL\n",
      "2022                              31.770608\n",
      "2021                              31.681262\n",
      "2020                              24.060078\n",
      "2019                              28.382514\n"
     ]
    },
    {
     "data": {
      "text/plain": [
       "pandas.core.frame.DataFrame"
      ]
     },
     "execution_count": 152,
     "metadata": {},
     "output_type": "execute_result"
    }
   ],
   "source": [
    "coeff1 = balanceSheet.loc['Inventory']/balanceSheet.loc['Total Assets']\n",
    "coeff2 = incomeStatement.loc['Total Revenue']/balanceSheet.loc['Gross PPE']\n",
    "coeff3 = (balanceSheet.loc['Total Assets']+balanceSheet.loc['Stockholders Equity'])/balanceSheet.loc['Total Assets']\n",
    "coeff4 = balanceSheet.loc['Current Assets']/balanceSheet.loc['Current Liabilities']\n",
    "\n",
    "exponent = 2.7**(5.768-4.236*coeff1-0.0259*coeff2-4.766*coeff3-1.936*coeff4)\n",
    "P =(1-(1/(1+exponent)))*100 \n",
    "PTranspose = P.T\n",
    "pTable = pd.DataFrame(PTranspose)\n",
    "pTable.columns = ['Probability Percentage for {}'.format(companySymbols[comapnyChoice-1])]\n",
    "print(\"### The probability of fraud is: \")\n",
    "print(pTable)\n",
    "type(pTable)"
   ]
  },
  {
   "cell_type": "code",
   "execution_count": 163,
   "id": "dbeb6a32",
   "metadata": {},
   "outputs": [
    {
     "name": "stdout",
     "output_type": "stream",
     "text": [
      "2022    31.770608\n",
      "2021    31.681262\n",
      "2020    24.060078\n",
      "2019    28.382514\n",
      "Name: Probability Percentage for BHARTIARTL, dtype: float64\n"
     ]
    }
   ],
   "source": [
    "prob = pTable.squeeze() # cpnvert pandas dataframe to series so that it is iterable\n",
    "print(prob)"
   ]
  },
  {
   "cell_type": "markdown",
   "id": "6b11a0e9",
   "metadata": {},
   "source": [
    "## Tabluated fraud %"
   ]
  },
  {
   "cell_type": "code",
   "execution_count": 164,
   "id": "e641a464",
   "metadata": {},
   "outputs": [
    {
     "name": "stdout",
     "output_type": "stream",
     "text": [
      "2022    31.770608\n",
      "2021    31.681262\n",
      "2020    24.060078\n",
      "2019    28.382514\n",
      "Name: Probability Percentage for BHARTIARTL, dtype: float64\n",
      "2022    31.770608\n",
      "2021    31.681262\n",
      "2020    24.060078\n",
      "2019    28.382514\n",
      "Name: Probability Percentage for BHARTIARTL, dtype: float64\n",
      "2022    31.770608\n",
      "2021    31.681262\n",
      "2020    24.060078\n",
      "2019    28.382514\n",
      "Name: Probability Percentage for BHARTIARTL, dtype: float64\n",
      "2022    31.770608\n",
      "2021    31.681262\n",
      "2020    24.060078\n",
      "2019    28.382514\n",
      "Name: Probability Percentage for BHARTIARTL, dtype: float64\n",
      "['NO', 'NO', 'YES', 'insuff data for 2019']\n",
      "['PROBABLY', 'PROBABLY', 'PROBABLY', 'NO']\n",
      "['NO', 'NO', 'NO', 'NO']\n"
     ]
    }
   ],
   "source": [
    "### Zcore test tabluated\n",
    "entry14 = []\n",
    "for pvalues in prob:\n",
    "    print(prob)\n",
    "    i = 0\n",
    "    if pvalues<50:\n",
    "        entry14value = \"NO\"\n",
    "        \n",
    "        entry14.append(entry14value)\n",
    "    \n",
    "    else:\n",
    "        entry14value = \"YES\"\n",
    "       \n",
    "        entry14.append(entry14value)\n",
    "    i = i + 1\n",
    "    \n",
    "  \n",
    "print(entry11)\n",
    "print(entry12)\n",
    "print(entry14)"
   ]
  },
  {
   "cell_type": "code",
   "execution_count": null,
   "id": "67afb895",
   "metadata": {},
   "outputs": [],
   "source": []
  },
  {
   "cell_type": "code",
   "execution_count": null,
   "id": "03bdbe0b",
   "metadata": {},
   "outputs": [],
   "source": []
  },
  {
   "cell_type": "code",
   "execution_count": null,
   "id": "0aa43809",
   "metadata": {},
   "outputs": [],
   "source": []
  },
  {
   "cell_type": "markdown",
   "id": "2ef7ea24",
   "metadata": {},
   "source": [
    "\n",
    "\n",
    "# Create a table"
   ]
  },
  {
   "cell_type": "code",
   "execution_count": 165,
   "id": "84aae649",
   "metadata": {},
   "outputs": [],
   "source": [
    "from prettytable import PrettyTable\n",
    "table1 = PrettyTable()"
   ]
  },
  {
   "cell_type": "code",
   "execution_count": 166,
   "id": "54d91062",
   "metadata": {},
   "outputs": [],
   "source": [
    "table1.field_names = [\"Year\", \"BeneishMscore\", \"AltmanZscore\", \"BenefordLaw\", \"FraudProbability\"]"
   ]
  },
  {
   "cell_type": "code",
   "execution_count": 167,
   "id": "710dc99d",
   "metadata": {},
   "outputs": [],
   "source": [
    "# table1.add_row = ['2022',entry11,entry12[0],entry13,entry14]\n",
    "table1.add_row(['2022',entry11[0],entry12[0],\"entry13[0]\",entry14[0]])\n",
    "table1.add_row(['2021',entry11[1],entry12[1],\"entry13[1]\",entry14[1]])\n",
    "table1.add_row(['2020',entry11[2],entry12[2],\"entry13[2]\",entry14[2]])\n",
    "table1.add_row(['2019',entry11[3],entry12[3],\"entry13[3]\",entry14[3]])\n",
    "\n"
   ]
  },
  {
   "cell_type": "code",
   "execution_count": 168,
   "id": "c16a2137",
   "metadata": {},
   "outputs": [
    {
     "data": {
      "text/html": [
       "<table>\n",
       "    <thead>\n",
       "        <tr>\n",
       "            <th>Year</th>\n",
       "            <th>BeneishMscore</th>\n",
       "            <th>AltmanZscore</th>\n",
       "            <th>BenefordLaw</th>\n",
       "            <th>FraudProbability</th>\n",
       "        </tr>\n",
       "    </thead>\n",
       "    <tbody>\n",
       "        <tr>\n",
       "            <td>2022</td>\n",
       "            <td>NO</td>\n",
       "            <td>PROBABLY</td>\n",
       "            <td>entry13[0]</td>\n",
       "            <td>NO</td>\n",
       "        </tr>\n",
       "        <tr>\n",
       "            <td>2021</td>\n",
       "            <td>NO</td>\n",
       "            <td>PROBABLY</td>\n",
       "            <td>entry13[1]</td>\n",
       "            <td>NO</td>\n",
       "        </tr>\n",
       "        <tr>\n",
       "            <td>2020</td>\n",
       "            <td>YES</td>\n",
       "            <td>PROBABLY</td>\n",
       "            <td>entry13[2]</td>\n",
       "            <td>NO</td>\n",
       "        </tr>\n",
       "        <tr>\n",
       "            <td>2019</td>\n",
       "            <td>insuff data for 2019</td>\n",
       "            <td>NO</td>\n",
       "            <td>entry13[3]</td>\n",
       "            <td>NO</td>\n",
       "        </tr>\n",
       "    </tbody>\n",
       "</table>"
      ],
      "text/plain": [
       "+------+----------------------+--------------+-------------+------------------+\n",
       "| Year |    BeneishMscore     | AltmanZscore | BenefordLaw | FraudProbability |\n",
       "+------+----------------------+--------------+-------------+------------------+\n",
       "| 2022 |          NO          |   PROBABLY   |  entry13[0] |        NO        |\n",
       "| 2021 |          NO          |   PROBABLY   |  entry13[1] |        NO        |\n",
       "| 2020 |         YES          |   PROBABLY   |  entry13[2] |        NO        |\n",
       "| 2019 | insuff data for 2019 |      NO      |  entry13[3] |        NO        |\n",
       "+------+----------------------+--------------+-------------+------------------+"
      ]
     },
     "execution_count": 168,
     "metadata": {},
     "output_type": "execute_result"
    }
   ],
   "source": [
    "table1"
   ]
  },
  {
   "cell_type": "code",
   "execution_count": 170,
   "id": "331becbe",
   "metadata": {},
   "outputs": [],
   "source": [
    "table1.title = \"Tabulated Test Result for {} \".format(companySymbols[comapnyChoice-1])"
   ]
  },
  {
   "cell_type": "code",
   "execution_count": 171,
   "id": "0caf09bc",
   "metadata": {},
   "outputs": [
    {
     "name": "stdout",
     "output_type": "stream",
     "text": [
      "+-----------------------------------------------------------------------------+\n",
      "|                    Tabulated Test Result for BHARTIARTL                     |\n",
      "+------+----------------------+--------------+-------------+------------------+\n",
      "| Year |    BeneishMscore     | AltmanZscore | BenefordLaw | FraudProbability |\n",
      "+------+----------------------+--------------+-------------+------------------+\n",
      "| 2022 |          NO          |   PROBABLY   |  entry13[0] |        NO        |\n",
      "| 2021 |          NO          |   PROBABLY   |  entry13[1] |        NO        |\n",
      "| 2020 |         YES          |   PROBABLY   |  entry13[2] |        NO        |\n",
      "| 2019 | insuff data for 2019 |      NO      |  entry13[3] |        NO        |\n",
      "+------+----------------------+--------------+-------------+------------------+\n"
     ]
    }
   ],
   "source": [
    "print(table1)"
   ]
  },
  {
   "cell_type": "code",
   "execution_count": 173,
   "id": "37576003",
   "metadata": {},
   "outputs": [],
   "source": [
    "with open('test.csv', 'w', newline='') as f_output:\n",
    "    f_output.write(table1.get_csv_string())"
   ]
  },
  {
   "cell_type": "code",
   "execution_count": null,
   "id": "c764041f",
   "metadata": {},
   "outputs": [],
   "source": [
    "def createPrettyTable(entry11,entry12,entry13,entry14):\n",
    "    "
   ]
  }
 ],
 "metadata": {
  "kernelspec": {
   "display_name": "Python 3 (ipykernel)",
   "language": "python",
   "name": "python3"
  },
  "language_info": {
   "codemirror_mode": {
    "name": "ipython",
    "version": 3
   },
   "file_extension": ".py",
   "mimetype": "text/x-python",
   "name": "python",
   "nbconvert_exporter": "python",
   "pygments_lexer": "ipython3",
   "version": "3.11.1"
  }
 },
 "nbformat": 4,
 "nbformat_minor": 5
}
